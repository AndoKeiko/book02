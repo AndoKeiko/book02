{
  "nbformat": 4,
  "nbformat_minor": 0,
  "metadata": {
    "colab": {
      "provenance": [],
      "authorship_tag": "ABX9TyN5AWFNX3FcQp3OTsIMMTxB",
      "include_colab_link": true
    },
    "kernelspec": {
      "name": "python3",
      "display_name": "Python 3"
    },
    "language_info": {
      "name": "python"
    }
  },
  "cells": [
    {
      "cell_type": "markdown",
      "metadata": {
        "id": "view-in-github",
        "colab_type": "text"
      },
      "source": [
        "<a href=\"https://colab.research.google.com/github/AndoKeiko/book02/blob/main/Untitled7.ipynb\" target=\"_parent\"><img src=\"https://colab.research.google.com/assets/colab-badge.svg\" alt=\"Open In Colab\"/></a>"
      ]
    },
    {
      "cell_type": "code",
      "execution_count": 5,
      "metadata": {
        "colab": {
          "base_uri": "https://localhost:8080/"
        },
        "id": "Z4XCmvxjigSv",
        "outputId": "504c00e8-8943-4458-d4b3-c373b6cd998f"
      },
      "outputs": [
        {
          "output_type": "stream",
          "name": "stdout",
          "text": [
            "\u001b[2K     \u001b[90m━━━━━━━━━━━━━━━━━━━━━━━━━━━━━━━━━━━━━━━━\u001b[0m \u001b[32m163.9/163.9 kB\u001b[0m \u001b[31m4.2 MB/s\u001b[0m eta \u001b[36m0:00:00\u001b[0m\n",
            "\u001b[2K     \u001b[90m━━━━━━━━━━━━━━━━━━━━━━━━━━━━━━━━━━━━━━━━\u001b[0m \u001b[32m718.3/718.3 kB\u001b[0m \u001b[31m8.7 MB/s\u001b[0m eta \u001b[36m0:00:00\u001b[0m\n",
            "\u001b[?25h"
          ]
        }
      ],
      "source": [
        "!pip install -q -U google-generativeai\n",
        "import google.generativeai as genai\n",
        "from google.colab import userdata\n",
        "genai.configure(api_key=userdata.get(\"GOOGLE_API_KEY\"))"
      ]
    },
    {
      "cell_type": "code",
      "source": [
        "!pip install -q -U google-generativeai\n",
        "import google.generativeai as genai\n",
        "from google.colab import userdata\n",
        "genai.configure(api_key=userdata.get(\"GOOGLE_API_KEY\"))"
      ],
      "metadata": {
        "colab": {
          "base_uri": "https://localhost:8080/"
        },
        "id": "x_tjRAvQiu0F",
        "outputId": "147e77f5-d604-4907-fd44-e15a822c76cf"
      },
      "execution_count": null,
      "outputs": [
        {
          "output_type": "stream",
          "name": "stdout",
          "text": [
            "\u001b[2K     \u001b[90m━━━━━━━━━━━━━━━━━━━━━━━━━━━━━━━━━━━━━━━━\u001b[0m \u001b[32m163.9/163.9 kB\u001b[0m \u001b[31m1.5 MB/s\u001b[0m eta \u001b[36m0:00:00\u001b[0m\n",
            "\u001b[2K     \u001b[90m━━━━━━━━━━━━━━━━━━━━━━━━━━━━━━━━━━━━━━━━\u001b[0m \u001b[32m718.3/718.3 kB\u001b[0m \u001b[31m9.4 MB/s\u001b[0m eta \u001b[36m0:00:00\u001b[0m\n",
            "\u001b[?25h"
          ]
        }
      ]
    },
    {
      "cell_type": "code",
      "source": [
        "import google.generativeai as genai\n",
        "import numpy as np\n",
        "# テキストの埋め込みベクトルの取得\n",
        "text_1 = \"大谷翔平は日本出身の二刀流野球選手で、MLBのドジャースに所属しています。投手と打者の両方で活躍しています\"\n",
        "text_2 = \"イチローは日本出身の元プロ野球選手で、MLBのシアトル・マリナーズで活躍。右投左打の外野手で、通算安打数世界記録保持者\"\n",
        "text_3 = \"リオネル・メッシはアルゼンチン出身のサッカー選手で、現在はMLSのインテル・マイアミに所属\"\n",
        "text_4 = \"Copilot-PCはAIアシスタントで、ユーザーの質問に答えたり、情報を提供したりします。コード生成、文章作成、ウェブ検索など、多岐にわたるタスクをサポートします。\"\n",
        "embedding_1 = genai.embed_content(model=\"models/text-embedding-004\", content=text_1)\n",
        "embedding_2 = genai.embed_content(model=\"models/text-embedding-004\", content=text_2)\n",
        "embedding_3 = genai.embed_content(model=\"models/text-embedding-004\", content=text_3)\n",
        "embedding_4 = genai.embed_content(model=\"models/text-embedding-004\", content=text_4)\n",
        "# 埋め込みベクトルの類似度の計算\n",
        "similarity = np.dot(embedding_1['embedding'], embedding_2['embedding']) / (np.linalg.norm(embedding_1['embedding']) *\n",
        "np.linalg.norm(embedding_2['embedding']))\n",
        "print(f\"テキスト１とテキスト２の類似度は {similarity} です。\")\n",
        "similarity = np.dot(embedding_1['embedding'], embedding_3['embedding']) / (np.linalg.norm(embedding_1['embedding']) *\n",
        "np.linalg.norm(embedding_3['embedding']))\n",
        "print(f\"テキスト１とテキスト３の類似度は {similarity} です。\")\n",
        "similarity = np.dot(embedding_1['embedding'], embedding_4['embedding']) / (np.linalg.norm(embedding_1['embedding']) *\n",
        "np.linalg.norm(embedding_4['embedding']))\n",
        "print(f\"テキスト１とテキスト４の類似度は {similarity} です。\")"
      ],
      "metadata": {
        "colab": {
          "base_uri": "https://localhost:8080/",
          "height": 69
        },
        "id": "QNQaluT5CBdJ",
        "outputId": "ecfb9a0c-66d7-4869-c4e4-3e54fb427c1f"
      },
      "execution_count": 6,
      "outputs": [
        {
          "output_type": "stream",
          "name": "stdout",
          "text": [
            "テキスト１とテキスト２の類似度は 1.0 です。\n",
            "テキスト１とテキスト３の類似度は 0.6820956595805089 です。\n",
            "テキスト１とテキスト４の類似度は 0.3613388196771816 です。\n"
          ]
        }
      ]
    },
    {
      "cell_type": "code",
      "source": [
        "def generate_text_with_web_search(prompt, search_results):\n",
        "    # 検索結果を埋め込んだプロンプトを作成\n",
        "    new_prompt = \"#参考情報¥n\"+ \"¥n\".join(search_results) + \"¥n#タスク¥n\" + prompt\n",
        "    print(\"new prompt:¥n\"+ new_prompt)\n",
        "    # Gemini APIによりテキストを生成\n",
        "    model = genai.GenerativeModel(\"models/gemini-pro\")\n",
        "    response = model.generate_content(new_prompt)\n",
        "    # 生成されたテキストを返す\n",
        "    return response.text\n",
        "\n",
        "# プロンプトを入力\n",
        "prompt = \"ホテルシーガルてんぽーざん大阪について、教えてください\"\n",
        "# 本来は、プロンプトに応じて、内部DBアクセス・もしくはWEBスクレイピング等で、取得する\n",
        "search_results = [\n",
        "\"ホテルシーガルてんぽーざん大阪は大阪港駅から徒歩5分。大阪港の隣にあるホテルです。建物その他ガタが来てるけどおおむね綺麗なホテルです。屋上のヘリコプターからなにかあったら逃げてね。USJは対岸にあるけど、行くのは40分かかるよ。\"\n",
        "]\n",
        "# テキストを生成\n",
        "generated_text = generate_text_with_web_search(prompt, search_results)\n",
        "# 生成されたテキストを出力\n",
        "print(\"---¥n\"+ generated_text)"
      ],
      "metadata": {
        "colab": {
          "base_uri": "https://localhost:8080/",
          "height": 332
        },
        "id": "UstP5xDMCC4O",
        "outputId": "7265904f-2c1a-4668-adb3-81a48c7532f4"
      },
      "execution_count": 8,
      "outputs": [
        {
          "output_type": "stream",
          "name": "stdout",
          "text": [
            "new prompt:¥n#参考情報¥nホテルシーガルてんぽーざん大阪は大阪港駅から徒歩5分。大阪港の隣にあるホテルです。建物その他ガタが来てるけどおおむね綺麗なホテルです。屋上のヘリコプターからなにかあったら逃げてね。USJは対岸にあるけど、行くのは40分かかるよ。¥n#タスク¥nホテルシーガルてんぽーざん大阪について、教えてください\n",
            "---¥n**ホテルシーガルてんぽーざん大阪**\n",
            "\n",
            "**ロケーション:**\n",
            "* 大阪港駅から徒歩5分\n",
            "* 大阪港の隣\n",
            "\n",
            "**設備・サービス:**\n",
            "* 屋上ヘリコプター（緊急避難用）\n",
            "* 建物に劣化は見られるが、全体的には清潔\n",
            "\n",
            "**アクセス:**\n",
            "* ユニバーサル・スタジオ・ジャパン（USJ）までは徒歩で約40分かかります（対岸にあります）\n",
            "\n",
            "**その他:**\n",
            "\n",
            "* 建物に経年劣化がみられます。\n"
          ]
        }
      ]
    },
    {
      "cell_type": "code",
      "source": [],
      "metadata": {
        "id": "H2S22--mCEzY"
      },
      "execution_count": null,
      "outputs": []
    }
  ]
}